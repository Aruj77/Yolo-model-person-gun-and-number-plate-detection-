{
 "cells": [
  {
   "cell_type": "code",
   "execution_count": 2,
   "id": "a2c5b19e",
   "metadata": {},
   "outputs": [],
   "source": [
    "import librosa"
   ]
  },
  {
   "cell_type": "code",
   "execution_count": null,
   "id": "78a08be0",
   "metadata": {},
   "outputs": [],
   "source": [
    "audio, sample_rate = librosa.load(\"gunshot.wav\")\n",
    "target_sample_rate = 16000\n",
    "audio = librosa.resample(audio, sample_rate, target_sample_rate)\n",
    "audio /= max(abs(audio))"
   ]
  },
  {
   "cell_type": "code",
   "execution_count": null,
   "id": "c8a21dc3",
   "metadata": {},
   "outputs": [],
   "source": [
    "import librosa.feature\n",
    "mfccs = librosa.feature.mfcc(y=audio, sr=target_sample_rate, n_mfcc=13)"
   ]
  },
  {
   "cell_type": "code",
   "execution_count": null,
   "id": "6dccb7d2",
   "metadata": {},
   "outputs": [],
   "source": [
    "from sklearn.model_selection import train_test_split\n",
    "from sklearn.ensemble import RandomForestClassifier\n",
    "X_train, X_test, y_train, y_test = train_test_split(mfccs.T, labels, test_size=0.2)\n",
    "clf = RandomForestClassifier(n_estimators=100)\n",
    "clf.fit(X_train, y_train)\n",
    "accuracy = clf.score(X_test, y_test)\n",
    "print(f\"Accuracy: {accuracy}\")"
   ]
  },
  {
   "cell_type": "code",
   "execution_count": null,
   "id": "55849c1f",
   "metadata": {},
   "outputs": [],
   "source": [
    "import sounddevice as sd\n",
    "def callback(indata, frames, time, status):\n",
    "    if status:\n",
    "        print(status, file=sys.stderr)\n",
    "    if any(indata):\n",
    "        features = extract_features(indata)\n",
    "        prediction = clf.predict(features)\n",
    "        if prediction == 1:\n",
    "            print(\"Gunshot detected!\")\n",
    "with sd.InputStream(callback=callback):\n",
    "    sd.sleep(10 * 1000)\n"
   ]
  }
 ],
 "metadata": {
  "kernelspec": {
   "display_name": "Python 3 (ipykernel)",
   "language": "python",
   "name": "python3"
  },
  "language_info": {
   "codemirror_mode": {
    "name": "ipython",
    "version": 3
   },
   "file_extension": ".py",
   "mimetype": "text/x-python",
   "name": "python",
   "nbconvert_exporter": "python",
   "pygments_lexer": "ipython3",
   "version": "3.11.5"
  }
 },
 "nbformat": 4,
 "nbformat_minor": 5
}
