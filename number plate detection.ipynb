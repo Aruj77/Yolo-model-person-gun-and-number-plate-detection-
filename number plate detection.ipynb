{
 "cells": [
  {
   "cell_type": "code",
   "execution_count": null,
   "id": "5b15ef8d",
   "metadata": {},
   "outputs": [],
   "source": [
    "import cv2\n",
    "video_path = 'car plate.mp4'\n",
    "cap = cv2.VideoCapture(video_path)\n",
    "tracker = cv2.TrackerKLT_create()\n",
    "ret, frame = cap.read()\n",
    "bbox = cv2.selectROI(\"Select License Plate\", frame)\n",
    "tracker.init(frame, bbox)\n",
    "while True:\n",
    "    ret, frame = cap.read()\n",
    "    if not ret:\n",
    "        break\n",
    "    success, bbox = tracker.update(frame)\n",
    "    if success:\n",
    "        x, y, w, h = map(int, bbox)\n",
    "        cv2.rectangle(frame, (x, y), (x + w, y + h), (0, 255, 0), 2)\n",
    "    else:\n",
    "        print(\"Tracking failed\")\n",
    "    cv2.imshow(\"License Plate Tracking\", frame)\n",
    "    if cv2.waitKey(1) & 0xFF == 27:  # Press 'Esc' to exit\n",
    "        break\n",
    "cap.release()\n",
    "cv2.destroyAllWindows()\n"
   ]
  }
 ],
 "metadata": {
  "kernelspec": {
   "display_name": "Python 3 (ipykernel)",
   "language": "python",
   "name": "python3"
  },
  "language_info": {
   "codemirror_mode": {
    "name": "ipython",
    "version": 3
   },
   "file_extension": ".py",
   "mimetype": "text/x-python",
   "name": "python",
   "nbconvert_exporter": "python",
   "pygments_lexer": "ipython3",
   "version": "3.11.5"
  }
 },
 "nbformat": 4,
 "nbformat_minor": 5
}
