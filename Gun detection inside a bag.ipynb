{
 "cells": [
  {
   "cell_type": "code",
   "execution_count": null,
   "id": "9cf2c876",
   "metadata": {},
   "outputs": [],
   "source": [
    "import cv2\n",
    "import numpy as np\n",
    "net = cv2.dnn.readNet(\"yolo/model.weights\", \"yolo/yolov5.cfg\")\n",
    "with open(\"darknet/class.names\", \"r\") as f:\n",
    "    classes = f.read().strip().split(\"\\n\")\n",
    "image = cv2.imread(\"images/bag_image.jpg\")\n",
    "blob = cv2.dnn.blobFromImage(image, 1/255.0, (416, 416), swapRB=True, crop=False)\n",
    "net.setInput(blob)\n",
    "layer_names = net.getUnconnectedOutLayersNames()\n",
    "detections = net.forward(layer_names)\n",
    "for detection in detections:\n",
    "    for obj in detection:\n",
    "        scores = obj[5:]\n",
    "        class_id = np.argmax(scores)\n",
    "        confidence = scores[class_id]\n",
    "        if confidence > 0.5 and classes[class_id] == \"gun\":\n",
    "            center_x, center_y, width, height = (obj[0:4] * np.array([image.shape[1], image.shape[0], image.shape[1], image.shape[0]])).astype(int)\n",
    "            x = int(center_x - width / 2)\n",
    "            y = int(center_y - height / 2)\n",
    "            cv2.rectangle(image, (x, y), (x + width, y + height), (0, 0, 255), 2)\n",
    "cv2.imshow(\"Gun Detection using yolo\", image)\n",
    "cv2.waitKey(0)\n",
    "cv2.destroyAllWindows()\n"
   ]
  }
 ],
 "metadata": {
  "kernelspec": {
   "display_name": "Python 3 (ipykernel)",
   "language": "python",
   "name": "python3"
  },
  "language_info": {
   "codemirror_mode": {
    "name": "ipython",
    "version": 3
   },
   "file_extension": ".py",
   "mimetype": "text/x-python",
   "name": "python",
   "nbconvert_exporter": "python",
   "pygments_lexer": "ipython3",
   "version": "3.11.5"
  }
 },
 "nbformat": 4,
 "nbformat_minor": 5
}
